{
 "cells": [
  {
   "cell_type": "code",
   "execution_count": 1,
   "metadata": {},
   "outputs": [],
   "source": [
    "import gzip\n",
    "from collections import defaultdict\n",
    "from datetime import datetime"
   ]
  },
  {
   "cell_type": "code",
   "execution_count": 2,
   "metadata": {},
   "outputs": [],
   "source": [
    "def parse(path):\n",
    "    g = gzip.open(path, 'r')\n",
    "    for l in g:\n",
    "        yield eval(l)"
   ]
  },
  {
   "cell_type": "code",
   "execution_count": 3,
   "metadata": {},
   "outputs": [],
   "source": [
    "dataset_path = '../../dataset/'\n",
    "dataset_name = 'Baby_5'"
   ]
  },
  {
   "cell_type": "code",
   "execution_count": 4,
   "metadata": {},
   "outputs": [],
   "source": [
    "# 筛时间\n",
    "T = 201404\n",
    "\n",
    "# 保证用户在截断时间之前有交互\n",
    "countUafterT = defaultdict(int)\n",
    "\n",
    "for l in parse(dataset_path + 'reviews_'+ dataset_name +'.json.gz'):\n",
    "    asin = l['asin']\n",
    "    rev = l['reviewerID']\n",
    "    time = datetime.fromtimestamp(l['unixReviewTime']).__format__('%Y%m%d')\n",
    "    \n",
    "    if int(time[0:6]) >= T:\n",
    "        countUafterT[rev] += 1"
   ]
  },
  {
   "cell_type": "code",
   "execution_count": 5,
   "metadata": {},
   "outputs": [],
   "source": [
    "# 筛时间\n",
    "# 保证用户在截断时间之前与之后有交互\n",
    "countUbeforeT = defaultdict(int)\n",
    "# 保证物品在截断时间之前有交互\n",
    "countIbeforeT = defaultdict(int)\n",
    "\n",
    "for l in parse(dataset_path + 'reviews_'+ dataset_name +'.json.gz'):\n",
    "    asin = l['asin']\n",
    "    rev = l['reviewerID']\n",
    "    time = datetime.fromtimestamp(l['unixReviewTime']).__format__('%Y%m%d')\n",
    "    \n",
    "    if rev not in countUafterT.keys(): continue\n",
    "    \n",
    "    if int(time[0:6]) < T:\n",
    "        countIbeforeT[asin] += 1\n",
    "        countUbeforeT[rev] += 1"
   ]
  },
  {
   "cell_type": "code",
   "execution_count": 6,
   "metadata": {},
   "outputs": [],
   "source": [
    "usermap = dict()\n",
    "usernum = 0\n",
    "itemmap = dict()\n",
    "itemnum = 0\n",
    "\n",
    "User = dict()\n",
    "Item = dict()\n",
    "\n",
    "for l in parse(dataset_path + 'reviews_'+ dataset_name +'.json.gz'):\n",
    "    asin = l['asin']\n",
    "    rev = l['reviewerID']\n",
    "    time = datetime.fromtimestamp(l['unixReviewTime']).__format__('%Y%m%d')\n",
    "    rating = l['overall']\n",
    "\n",
    "    if rev not in countUbeforeT.keys() or asin not in countIbeforeT.keys(): continue\n",
    "    \n",
    "    if rev in usermap: userid = usermap[rev]\n",
    "    else:\n",
    "        userid = usernum\n",
    "        usernum += 1\n",
    "        usermap[rev] = userid\n",
    "        User[userid] = []\n",
    "    \n",
    "    if asin in itemmap: itemid = itemmap[asin]\n",
    "    else:\n",
    "        itemid = itemnum\n",
    "        itemnum += 1\n",
    "        itemmap[asin] = itemid\n",
    "        Item[itemid] = []\n",
    "    \n",
    "    \n",
    "    User[userid].append([itemid, time, rating])\n",
    "    Item[itemid].append([userid, time, rating])"
   ]
  },
  {
   "cell_type": "code",
   "execution_count": 7,
   "metadata": {},
   "outputs": [
    {
     "data": {
      "text/plain": [
       "4314"
      ]
     },
     "execution_count": 7,
     "metadata": {},
     "output_type": "execute_result"
    }
   ],
   "source": [
    "usernum"
   ]
  },
  {
   "cell_type": "code",
   "execution_count": 8,
   "metadata": {},
   "outputs": [
    {
     "data": {
      "text/plain": [
       "5854"
      ]
     },
     "execution_count": 8,
     "metadata": {},
     "output_type": "execute_result"
    }
   ],
   "source": [
    "itemnum"
   ]
  },
  {
   "cell_type": "code",
   "execution_count": 9,
   "metadata": {},
   "outputs": [],
   "source": [
    "num_int = 0\n",
    "for k,v in User.items():\n",
    "    num_int += len(v)"
   ]
  },
  {
   "cell_type": "code",
   "execution_count": 10,
   "metadata": {},
   "outputs": [
    {
     "data": {
      "text/plain": [
       "42657"
      ]
     },
     "execution_count": 10,
     "metadata": {},
     "output_type": "execute_result"
    }
   ],
   "source": [
    "num_int"
   ]
  },
  {
   "cell_type": "code",
   "execution_count": 11,
   "metadata": {},
   "outputs": [
    {
     "data": {
      "text/plain": [
       "0.16891081214513762"
      ]
     },
     "execution_count": 11,
     "metadata": {},
     "output_type": "execute_result"
    }
   ],
   "source": [
    "num_int / (usernum * itemnum) * 100"
   ]
  },
  {
   "cell_type": "code",
   "execution_count": 12,
   "metadata": {},
   "outputs": [],
   "source": [
    "# user部分\n",
    "User_sorted = dict()\n",
    "for k,v in User.items():\n",
    "    User_sorted[k] = sorted(v, key=lambda v: v[1])"
   ]
  },
  {
   "cell_type": "code",
   "execution_count": 13,
   "metadata": {},
   "outputs": [],
   "source": [
    "User_train = defaultdict(list)\n",
    "User_test = defaultdict(list)\n",
    "\n",
    "for k,v in User_sorted.items():\n",
    "    for i in v:\n",
    "        time = i[1]\n",
    "        if int(time[0:6]) < T:\n",
    "            User_train[k].append(i)\n",
    "        else:\n",
    "            User_test[k].append(i)"
   ]
  },
  {
   "cell_type": "code",
   "execution_count": 14,
   "metadata": {},
   "outputs": [
    {
     "data": {
      "text/plain": [
       "4314"
      ]
     },
     "execution_count": 14,
     "metadata": {},
     "output_type": "execute_result"
    }
   ],
   "source": [
    "len(User_train)"
   ]
  },
  {
   "cell_type": "code",
   "execution_count": 15,
   "metadata": {},
   "outputs": [
    {
     "data": {
      "text/plain": [
       "4046"
      ]
     },
     "execution_count": 15,
     "metadata": {},
     "output_type": "execute_result"
    }
   ],
   "source": [
    "len(User_test)"
   ]
  },
  {
   "cell_type": "code",
   "execution_count": 16,
   "metadata": {},
   "outputs": [
    {
     "data": {
      "text/plain": [
       "31567"
      ]
     },
     "execution_count": 16,
     "metadata": {},
     "output_type": "execute_result"
    }
   ],
   "source": [
    "num_tr = 0\n",
    "for k,v in User_train.items():\n",
    "    num_tr += len(v)\n",
    "num_tr"
   ]
  },
  {
   "cell_type": "code",
   "execution_count": 17,
   "metadata": {},
   "outputs": [
    {
     "data": {
      "text/plain": [
       "11090"
      ]
     },
     "execution_count": 17,
     "metadata": {},
     "output_type": "execute_result"
    }
   ],
   "source": [
    "num_ts = 0\n",
    "for k,v in User_test.items():\n",
    "    num_ts += len(v)\n",
    "num_ts"
   ]
  },
  {
   "cell_type": "code",
   "execution_count": 18,
   "metadata": {},
   "outputs": [
    {
     "data": {
      "text/plain": [
       "0.25998077689476523"
      ]
     },
     "execution_count": 18,
     "metadata": {},
     "output_type": "execute_result"
    }
   ],
   "source": [
    "# 训练集测试集占比\n",
    "num_ts / (num_tr + num_ts)"
   ]
  },
  {
   "cell_type": "code",
   "execution_count": 19,
   "metadata": {},
   "outputs": [],
   "source": [
    "# 保证测试集里的所有物品都在训练集里出现过"
   ]
  },
  {
   "cell_type": "code",
   "execution_count": 20,
   "metadata": {},
   "outputs": [],
   "source": [
    "setI = set()\n",
    "for k,v in User_train.items():\n",
    "    for i in v:\n",
    "        setI.add(i[0])"
   ]
  },
  {
   "cell_type": "code",
   "execution_count": 21,
   "metadata": {},
   "outputs": [
    {
     "data": {
      "text/plain": [
       "5854"
      ]
     },
     "execution_count": 21,
     "metadata": {},
     "output_type": "execute_result"
    }
   ],
   "source": [
    "len(setI)"
   ]
  },
  {
   "cell_type": "code",
   "execution_count": 22,
   "metadata": {},
   "outputs": [
    {
     "data": {
      "text/plain": [
       "5854"
      ]
     },
     "execution_count": 22,
     "metadata": {},
     "output_type": "execute_result"
    }
   ],
   "source": [
    "itemnum"
   ]
  },
  {
   "cell_type": "code",
   "execution_count": 23,
   "metadata": {},
   "outputs": [
    {
     "data": {
      "text/plain": [
       "True"
      ]
     },
     "execution_count": 23,
     "metadata": {},
     "output_type": "execute_result"
    }
   ],
   "source": [
    "len(setI) == itemnum"
   ]
  },
  {
   "cell_type": "code",
   "execution_count": 24,
   "metadata": {},
   "outputs": [],
   "source": [
    "path = './baby/train.txt'\n",
    "f = open(path, 'w')\n",
    "\n",
    "for u, i in User_train.items():\n",
    "    f.write(str(u))\n",
    "    for n in i:\n",
    "        f.write(\" \" + str(n[0]))\n",
    "    f.write('\\n')\n",
    "\n",
    "f.close()"
   ]
  },
  {
   "cell_type": "code",
   "execution_count": 25,
   "metadata": {},
   "outputs": [],
   "source": [
    "path = './baby/test.txt'\n",
    "f = open(path, 'w')\n",
    "\n",
    "for u, i in User_test.items():\n",
    "    f.write(str(u))\n",
    "    for n in i:\n",
    "        f.write(\" \" + str(n[0]))\n",
    "    f.write('\\n')\n",
    "\n",
    "f.close()"
   ]
  },
  {
   "cell_type": "code",
   "execution_count": null,
   "metadata": {},
   "outputs": [],
   "source": []
  }
 ],
 "metadata": {
  "kernelspec": {
   "display_name": "Python 3",
   "language": "python",
   "name": "python3"
  },
  "language_info": {
   "codemirror_mode": {
    "name": "ipython",
    "version": 3
   },
   "file_extension": ".py",
   "mimetype": "text/x-python",
   "name": "python",
   "nbconvert_exporter": "python",
   "pygments_lexer": "ipython3",
   "version": "3.7.0"
  }
 },
 "nbformat": 4,
 "nbformat_minor": 4
}
